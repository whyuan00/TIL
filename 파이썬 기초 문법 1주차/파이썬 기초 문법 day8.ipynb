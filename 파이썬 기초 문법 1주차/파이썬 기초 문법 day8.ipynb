{
 "cells": [
  {
   "cell_type": "markdown",
   "metadata": {},
   "source": [
    "# 객체 지향 프로그래밍\n",
    "\n",
    "### 절차지향 프로그래밍\n",
    "프로그램을 데이터와 절차로 구성\n",
    "- 데이터와 데이터를 처리하는 함수(절차)가 분리되어있음, 함수 호출 흐름 중요\n",
    "- **함수**가 메인으로 순차적인 흐름에 따라 진행\n",
    "\n",
    "\n",
    "but \"소프트웨어의 위기\" \n",
    "하드웨어 발전으로 컴퓨터용량및 문제 복잡성 증가 -> 소프트웨어에 충격 발생\n",
    "ex. 중간에 문제 생기면 뒤가 안됨, 프로그램 스탑\n",
    "\n",
    "### 객체지향 프로그래밍 (OOP)\n",
    "데이터와 해당 데이터조작메서드를 하나 객체로 묶어 관리하는 프로그래밍\n",
    "- 데이터와 함수를 **하나의 객체로 묶어** 관리 -> **클래스**\n",
    "- 상위-하위개념이 있음 "
   ]
  },
  {
   "cell_type": "markdown",
   "metadata": {},
   "source": [
    "# 클래스 class\n",
    "파이썬에서 타입표현방법\n",
    "- 객체생성하는 설계도\n",
    "- 데이터와 기능 함께 묶는방법 제공 \n",
    "\n",
    "객체\n",
    "- 클래스에서 정의한것을 토대로 **메모리에 할당된 것**\n",
    "    - 파이썬에 저장된 모든것이 객체 \n",
    "- 하나의 객체는 속성과 행동으로 구성\n",
    "    - 클래스는 변수,메서드를 담고 있음. 변수-> 개체의속성, 메서드-> 행동     \n",
    "- 클래스도 객체임, 클래스로 만든 객체를 **인스턴스**라고도 함. \n",
    "\n"
   ]
  },
  {
   "cell_type": "code",
   "execution_count": null,
   "metadata": {},
   "outputs": [],
   "source": [
    "# Class strig 이 존재함\n",
    "\n",
    "name = 'Alice' #name의 타입은 str 클래스, name은 인스턴스\n",
    "print(type(name)) #<class 'str'>\n",
    "\n",
    "# 즉 모든 string type 변수는 str 클래스에 속한 인스턴스. \n",
    "# list type 클래스에 속한 인스턴스는 [1,2,3] 등\n",
    "\n",
    "'Hello'.upper() #str 클래스에 upper 메서드가 있어서 사용가능   \n",
    "\n",
    "[1,2,3].sort() #리스트 클래스에 sort 메서드 있음. "
   ]
  },
  {
   "cell_type": "markdown",
   "metadata": {},
   "source": [
    "## 객체의 특징\n",
    "- 타입: 어떤 연산자(오퍼레이터)와 조작(메서드) 가능?\n",
    "- 속성: 어떤 상태(데이터) 가짐?\n",
    "- 조작(메서드): 어떤 행동(함수)?"
   ]
  },
  {
   "cell_type": "code",
   "execution_count": null,
   "metadata": {},
   "outputs": [],
   "source": [
    "# 스타일가이드\n",
    "# 함수와 다른점은 대문자로 시작(PaskalCase)\n",
    "# 스네이크 케이스(언더바)와 다르게 대문자 써줌\n",
    "\n",
    "class Person:\n",
    "    pass # 없으면 생략\n",
    "\n",
    "#클래스에 속한 인스턴스 생성\n",
    "iu = Person() \n",
    "\n",
    "#메서드 호출\n",
    "iu.메서드()\n",
    "\n",
    "#속성(변수)\n",
    "iu.attribute "
   ]
  },
  {
   "cell_type": "code",
   "execution_count": null,
   "metadata": {},
   "outputs": [],
   "source": [
    "class Person:\n",
    "    #속성\n",
    "    blood_color = 'red'\n",
    "\n",
    "    def __init__(self, name): # init은 생성자함수. \n",
    "        self.name = name\n",
    "\n",
    "    def singing(self):\n",
    "        return f'{self.name}가 노래합니다'\n",
    "\n",
    "#인스턴스 생성    \n",
    "singer1 = Person('iu')\n",
    "singer2 = Person('BTS')\n",
    "\n",
    "print(singer1.singing())\n",
    "print(singer2.singing())\n",
    "\n",
    "print(singer1.blood_color)\n",
    "print(singer2.blood_color)"
   ]
  },
  {
   "cell_type": "markdown",
   "metadata": {},
   "source": [
    "### 생성자함수\n",
    "객체 생성시 자동 호출되는 메서드\n",
    "__init__메서드로 정의됨, 객체 초기화 담당. \n",
    "생성자함수로 인스턴스 생성하고 초기값 설정\n",
    "\n",
    "### 인스턴스 변수\n",
    "인스턴스마다 별도로 유지되는 변수 \n",
    "인스턴스마다 독립적인 값 가짐, 인스턴스 생성시마다 초기화됨. \n",
    "```self.name = name```\n",
    "\n",
    "### 클래스변수\n",
    "클래스 내부에 선언된 변수, 모든 인스턴스가 공유함\n",
    "```blood_color = 'red'```\n",
    "\n",
    "### 인스턴스 메서드\n",
    "각 인스턴스에서 호출하는 메서드\n",
    "인스턴스변수에 접근,수정 등 작업 수행 \n",
    "\n",
    "```python\n",
    "def singing(self):\n",
    "    return f'{self.name}가 노래합니다.'\n",
    "\n",
    "#인스턴스 메서드 호출\n",
    "print(singer1.dinging())\n",
    "```"
   ]
  },
  {
   "cell_type": "markdown",
   "metadata": {},
   "source": [
    "## 인스턴스와 클래스의 이름공간\n",
    "\n",
    "클래스 정의하면 이름공간 생성\n",
    "인스턴스에서 특정속성제 접근시 인스턴스->클래스 순 탐색\n",
    "ex. singer1.blood_color 메서드 호출시 singer1 인스턴스에서 먼저 찾고 그다음 클래스"
   ]
  },
  {
   "cell_type": "code",
   "execution_count": 23,
   "metadata": {},
   "outputs": [
    {
     "name": "stdout",
     "output_type": "stream",
     "text": [
      "unknown\n",
      "kim\n",
      "kim\n",
      "11\n",
      "unknown\n"
     ]
    }
   ],
   "source": [
    "# 이름공간\n",
    "class Person:\n",
    "    name = 'unknown'\n",
    "\n",
    "    def talk(self):\n",
    "        return (self.name) #인스턴스이름 프린트하는 메서드 \n",
    "\n",
    "p1 = Person()\n",
    "print(p1.talk()) # 본인한테 이름없어서 class로 올라감 \n",
    "\n",
    "p2 = Person()\n",
    "p2.name = 'kim'\n",
    "print(p2.talk())\n",
    "print(p2.name)\n",
    "\n",
    "p2.ssafy = 11 # p2라는 변수에 ssafy메서드를 11로 할당 ? \n",
    "print(p2.ssafy) # 가능 \n",
    "\n",
    "print(Person.name) #클래스도 가능 \n"
   ]
  },
  {
   "cell_type": "markdown",
   "metadata": {},
   "source": [
    "### 독립이름공간의 이점\n",
    "\n",
    "- 객체 지향 프로그래밍의 중요한 특성. 클래스와 인스턴스가 모듈화\n",
    "- 클래스와 인스턴스는 다를 객체와 충돌&영향 안줘서 독립동작 가능\n",
    "- 코드의 가독성, 유지보수성, 재사용성 "
   ]
  },
  {
   "cell_type": "markdown",
   "metadata": {},
   "source": [
    "# 인스턴스와 클래스변수\n",
    "\n",
    "## 클래스 변수활용\n",
    "\n",
    "1. 인스턴스 수 확인?\n",
    "```python\n",
    "def __init__(self,name):\n",
    "    self.name = name\n",
    "    person.count += 1\n",
    "\n",
    "print(person.count)\n",
    "```\n",
    "인스턴스 생성시마다 클래스 변수 늘어나게 설정\n",
    "\n",
    "2. 클래스변수 변경시 클래스.클래수변수 형식 변경\n",
    "\n",
    "\n"
   ]
  },
  {
   "cell_type": "code",
   "execution_count": null,
   "metadata": {},
   "outputs": [],
   "source": [
    "\n",
    "class Circle():\n",
    "    pi = 3.14\n",
    "    \n",
    "    def __init__(self,r):\n",
    "        self.r = r\n",
    "\n",
    "c1 = Circle(5) #반지름 r = 5\n",
    "c2 = Circle(10) #반지름 r = 10\n",
    "\n",
    "c2.pi =5\n",
    "print(Circle.pi)\n",
    "print(c1.pi)\n",
    "print(c2.pi)\n"
   ]
  },
  {
   "cell_type": "markdown",
   "metadata": {},
   "source": [
    "## 메서드 종류\n",
    "\n",
    "\n",
    "1. 인스턴스 메서드 \n",
    "- 클래스에서 생성된 각 인스턴스에서 호출. \n",
    "- 인스턴스 상태조작 & 동작 수행\n",
    "\n",
    "2. 클래스 메서드\n",
    "3. 정적 메서드 \n",
    "\n",
    "*클래스는 클래스 메서드와 정적 메서드 사용, 인스턴스는 인스턴스 메서드 사용하게 약속 \n",
    "나누는 목적은 역할이 다르기 때문. \n",
    "\n",
    "\n",
    "\n",
    "***문법적으로 클래스가 인스턴스 써도 되긴함 그러나 쓰지않음*** \n",
    "***마찬가지로 인스턴스가 클래스&스테이틱 써도 문법 문제는x. 이유는 찾아올라가니까***\n",
    "\n",
    "\n",
    "\n",
    "#. 매직메서드\n",
    "- 인스턴스메서드, 특정 상황에 자동 호출됨\n",
    "- 예시\n",
    "    - __str__(self) : 무슨 이름을 바꾼다고??? \n",
    "\n",
    "\n",
    "#. 데코레이터\n",
    "다른 함수 코드 유지상태로 수정&확장 위해 사용 함수\n",
    "- 인자로 함수를 받음.\n"
   ]
  },
  {
   "cell_type": "code",
   "execution_count": null,
   "metadata": {},
   "outputs": [],
   "source": [
    "# 데코레이터\n",
    "\n",
    "def my_decorator(func):\n",
    "    def wrapper():\n",
    "        print('함수실행전')   # 함수 실행전에 수행됨\n",
    "        result = func()      # 원본 함수 호출\n",
    "        print('함수실행후')   # 함수 실행 후 수행하게됨\n",
    "        return result\n",
    "    return wrapper\n",
    "\n",
    "@my_decorator\n",
    "def my_function():\n",
    "    print('원본함수실행')\n",
    "\n",
    "my_function()"
   ]
  },
  {
   "cell_type": "markdown",
   "metadata": {},
   "source": [
    "1. 인스턴스 메서드\n",
    "\n",
    "## 인스턴스 메서드 구조\n",
    "첫번째 매개변수로 반드시 인스턴스 self 전달 받음\n",
    "(문법상 다른걸로 쓸수있으나 룰에 의해 self 먼저 받음 )\n",
    "\n",
    "```python\n",
    "class Myclass:\n",
    "    def instance_method(self, arg1, ...): #예외없이 모든 인스턴스 메서드는 self 씀 \n",
    "        pass\n",
    "```\n",
    "예를들어\n",
    "\n",
    "1) ```'hello'.upper() `` 로 쓰면 파이썬은 #객체지향, 단축형 \n",
    "2) ```str.upper('hello')``` 로 해석함.  #절차지향\n",
    "\n",
    "즉 1이 객체지향, 2가 절차지향\n",
    "\n",
    "## 생성자 메서드\n",
    "인스턴스 객체 생성시 자동 호출 메서드\n",
    "인스턴스변수 초기값 설정 \n"
   ]
  },
  {
   "cell_type": "code",
   "execution_count": 30,
   "metadata": {},
   "outputs": [
    {
     "name": "stdout",
     "output_type": "stream",
     "text": [
      "지민인스턴스 생성\n"
     ]
    }
   ],
   "source": [
    "# 생성자 메서드\n",
    "\n",
    "class Person:\n",
    "    def __init__(self,name):\n",
    "        print(f'{name}인스턴스 생성')\n",
    "\n",
    "person1 = Person('지민')    # 생성자 인자에 name 있으면 Person에도 인자 넣어줘야함 "
   ]
  },
  {
   "cell_type": "markdown",
   "metadata": {},
   "source": [
    "## 클래스 메서드\n",
    "\n",
    "- @classmethod 데코레이터 사용해서 정의\n",
    "- 호출시 첫번쨰 인자로 클래스(cls) 전달\n",
    "\n",
    "```python\n",
    "class Myclass:\n",
    "    @classmethod  #인스턴스와 클래스 메서드 구분하려고 데코레이터@classmethod 사용 \n",
    "    def class_method(cls,arg1,...): #cls 이름 단순 매개변수. 첫번째로 클래스 들어와서 \n",
    "        pass\n",
    "```\n",
    "\n",
    "클래스 메서드가 하는일은 클래스 변수 조작. 따라서 클래스가 매개변수\n",
    "(인스턴스는 인스턴스 단위 조작이라 self) "
   ]
  },
  {
   "cell_type": "code",
   "execution_count": 32,
   "metadata": {},
   "outputs": [
    {
     "name": "stdout",
     "output_type": "stream",
     "text": [
      "인구수는 2입니다.\n",
      "<bound method Person.number_of_population of <class '__main__.Person'>>\n",
      "<bound method Person.number_of_population of <class '__main__.Person'>>\n"
     ]
    }
   ],
   "source": [
    "class Person:\n",
    "    count = 0\n",
    "\n",
    "    def __init__(self, name):\n",
    "        self.name = name\n",
    "        Person.count += 1 \n",
    "\n",
    "    @classmethod\n",
    "    def number_of_population(cls):\n",
    "        print(f'인구수는 {cls.count}입니다.') #Person.count로 하면 자식카운트 불가\n",
    "\n",
    "person1 = Person('iu')\n",
    "person2 = Person('BTS')\n",
    "\n",
    "Person.number_of_population()\n",
    "\n",
    "# print(person1.number_of_population)\n",
    "# print(person2.number_of_population)"
   ]
  },
  {
   "cell_type": "markdown",
   "metadata": {},
   "source": [
    "## 정적(static) 메서드\n",
    "\n",
    "- 클래스,인스턴스 상관없이 독립동작\n",
    "- @staticmethod \n",
    "- 호출시 필수로 작성해야할 매개변수 x \n",
    "    - 자기자신 인자로 안받아서 기능(행동)을 위한 메서드로 사용 \n"
   ]
  },
  {
   "cell_type": "code",
   "execution_count": 34,
   "metadata": {},
   "outputs": [
    {
     "name": "stdout",
     "output_type": "stream",
     "text": [
      "dlrow ,olleh\n"
     ]
    }
   ],
   "source": [
    "class Stringutil:\n",
    "    @staticmethod\n",
    "    def reverse_string(string):\n",
    "        return string[::-1]\n",
    "\n",
    "text = 'hello, world'\n",
    "\n",
    "reversed_text = Stringutil.reverse_string(text) \n",
    "print(reversed_text)\n",
    "\n",
    "\n",
    "# 일반함수랑 비슷함!"
   ]
  }
 ],
 "metadata": {
  "kernelspec": {
   "display_name": "Python 3",
   "language": "python",
   "name": "python3"
  },
  "language_info": {
   "codemirror_mode": {
    "name": "ipython",
    "version": 3
   },
   "file_extension": ".py",
   "mimetype": "text/x-python",
   "name": "python",
   "nbconvert_exporter": "python",
   "pygments_lexer": "ipython3",
   "version": "3.9.13"
  }
 },
 "nbformat": 4,
 "nbformat_minor": 2
}
