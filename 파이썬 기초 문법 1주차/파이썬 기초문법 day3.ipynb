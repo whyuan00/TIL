{
 "cells": [
  {
   "cell_type": "markdown",
   "metadata": {},
   "source": [
    "# 함수\n",
    "재사용성, 가독성, 유지보수성, 코드 중복 방지\n",
    "\n",
    "## 내장 함수\n",
    "파이썬이 기본으로 제공하는 함수. import없이 사용가능 ex.print\n",
    "\n",
    "## 함수 호출\n",
    "함수 실행 위해 함수 코드블록 실행. function_name() "
   ]
  },
  {
   "cell_type": "code",
   "execution_count": null,
   "metadata": {},
   "outputs": [],
   "source": [
    "def make_sum(pram1, pram2):\n",
    "    return pram1 + pram2\n",
    "\"\"\"\n",
    "이것은 두 수를 받아 두 수의 합을 반환한는 함수입니다.\n",
    ">>> make_sum(1,2)\n",
    "3 \n",
    "\n",
    "--> 협업시 함수를 사용하는 가이드를 작성하는 것. docstring이라고 부름. \n",
    "함수 바디에서 가장 앞에 적음.\n",
    " \n",
    "\"\"\"\n",
    "prams = map(int, input().split())\n",
    "make_sum(*prams)"
   ]
  },
  {
   "cell_type": "markdown",
   "metadata": {},
   "source": [
    "## 함수 호출\n",
    "- 함수 안에 몇개의 매개변수 받을 것인지 표시. def functions(a) \n",
    "    - 함수 정의할때 매개변수(parameter). 호출할때는 인자(argument)\n",
    "- return은 종료조건으로 뒤의 코드는 실행x\n",
    "    - 함수에 return 이 없을 수도 있음. "
   ]
  },
  {
   "cell_type": "markdown",
   "metadata": {},
   "source": [
    "## 매개변수(parameter) 와 인자(argument)\n",
    "\n",
    "매개변수는 ***정의할때*** 함수가 받을 값을 나타내는 변수\n",
    "\n",
    "인자는 함수를 ***호출할 때*** 실제로 전달되는 값\n",
    "\n",
    "``` python\n",
    "def functions(parameter):\n",
    "    parameter = aa\n",
    "    return aa  \n",
    "functions(argument)\n",
    "```"
   ]
  },
  {
   "cell_type": "markdown",
   "metadata": {},
   "source": [
    "### 인자를 여러개 받으려면? \n",
    "\n",
    "1. positional arguments (위치인자):  함수 호출시 반드시 값 전달해야하는 함수\n",
    "    - 누락시 에러 ***missing 1 required postitional argument*** \n",
    "2. keyword arguments (키워드 인자): 함수 호출시 이름과 값 전달 \n",
    "    - 키워드 인자 이후에 위치인자 등장 불가. ex print(age = 30, 'Bella')\n",
    "        - 이유는 어디 위치인지 알 수 없음. 따라서 위치인자 + 키워드 인자는 가능 \n",
    "\n",
    "3. arbitrary argument lists (임의 인자 목록): 정해지지않는 개수 처리 \n",
    "    - 패러미터 앞에 *붙이면 여러개 인자를 tuple로 처리 \n",
    "\n",
    "4. arbitrary keyword argument lists (임의의 키워드 인자 목록): 정해지지 않는 개수의 키워드 처리\n",
    "    - 패러미터 앞에 **붙여서 dictionary 로 처리 \n",
    "\n",
    "\n",
    "***함수인자 작성 권장순서는 위치-기본-가변-가변키워드***"
   ]
  },
  {
   "cell_type": "code",
   "execution_count": null,
   "metadata": {},
   "outputs": [],
   "source": [
    "def greet(name, age):\n",
    "    print(f'안녕하세요 {name}님, {age}살 이시군요')\n",
    "\n",
    "#위치 인자 방식\n",
    "#greet('Bella', 30)\n",
    "\n",
    "# 키워드 인자 방식 \n",
    "#greet(age = 30, name = 'Bella')\n",
    "\n",
    "# 키워드 인자 + 위치인자?\n",
    "#greet(age = 30, 'Bella') #타입에러\n",
    "#greet('Bella', age = 30) #가능 \n"
   ]
  },
  {
   "cell_type": "code",
   "execution_count": null,
   "metadata": {},
   "outputs": [],
   "source": [
    "# 임의인자\n",
    "def calcaulate_sum(*args): #패킹  \n",
    "    print(args)\n",
    "    total = sum(args)\n",
    "    print (f'합계: {total}')\n",
    "\n",
    "calcaulate_sum(1,2,3,4,5,6) #몇개 인자를 넣든 하나의 tuple로 함수에 들어감"
   ]
  },
  {
   "cell_type": "code",
   "execution_count": null,
   "metadata": {},
   "outputs": [],
   "source": [
    "# 키워드 인자 \n",
    "def print_info(**kwargs):\n",
    "    print(kwargs)\n",
    "print_info(name = 'Bella', age = 30) #여러개 키워드를 딕셔너리로 넣음 "
   ]
  },
  {
   "cell_type": "code",
   "execution_count": null,
   "metadata": {},
   "outputs": [],
   "source": [
    "# 여러개 합쳐 쓰기\n",
    "def func(pos1, pos2, age=30, *args, **kwargs):\n",
    "    print(pos1, pos2, age, args, kwargs)\n",
    "\n",
    "func(1,2,3,4,5) # 1, 2, age=3, 4와 5튜플, 키워드인자는 x "
   ]
  },
  {
   "cell_type": "markdown",
   "metadata": {},
   "source": [
    "# 함수와 scope(공간)\n",
    "1. scope\n",
    "- global scope: 코디 어디서든 참조가능공간\n",
    "- local scope: 함수가 만든 scope \n",
    "    - local scope의 변수는 밖에서 쓸수 없음 (변수 수명과 관련)\n",
    "\n",
    "2. 변수 lifecycle\n",
    "- built in scope: 파이썬 실행 후부터 여전히 유지\n",
    "- global scope: 모듈 호출 이후-인터프리터 끝까지 유지\n",
    "- local scope: 함수 호출-종료 유지 \n",
    "\n",
    "3. 이름 검색 규칙 LEGB 룰\n",
    "local - enclosed(함수내 함수) - global - builtin scope 순서대로 이름 검색\n",
    "반대시 인식할수 x\n",
    "\n"
   ]
  },
  {
   "cell_type": "code",
   "execution_count": null,
   "metadata": {},
   "outputs": [],
   "source": [
    "a  = 1\n",
    "b = 2\n",
    "def enclosed():\n",
    "    a = 10\n",
    "    c=3\n",
    "    def local(c)\n",
    "    print(a,b,c) # 10, 2, \"500\" \n",
    "#--> 여기는 함수가 호출되지 않음.호출되는지점은 local (500)\n",
    "\n",
    "    local(500)\n",
    "    print(a,b,c) # 10, 2, 3\n",
    "#--> 정의부분 아닌 호출부분 enclosed()봐야함.a=10, b=2, c=3\n",
    "\n",
    "enclosed() # \n",
    "print(a,b) #1,2 "
   ]
  },
  {
   "cell_type": "code",
   "execution_count": null,
   "metadata": {},
   "outputs": [],
   "source": [
    "# global 키워드로 변수 스코프를 전역 범위 지정\n",
    "num = 0\n",
    "def increment():\n",
    "    global num\n",
    "    num+ 1\n",
    "print(num) #0\n",
    "increment()\n",
    "print(num) # 1"
   ]
  },
  {
   "cell_type": "markdown",
   "metadata": {},
   "source": [
    "**단 global은 최대한 사용하지 말고 argument로 함수 넘긴 후에 반환값 사용하기**"
   ]
  },
  {
   "cell_type": "markdown",
   "metadata": {},
   "source": [
    "# 재귀함수\n",
    "자기 자신을 호출하는 함수\n",
    "- 특정 알고리즘 표현시 변수 덜쓰고 가독성 향상\n",
    "- 1개 이상의 base case(종료 상황)이 존재, 수렴하도록 작성\n",
    "- 문제를 작은 단위로 분할하고 분할된 결과를 조합하여 도출\n",
    "\n",
    "**주의사항**\n",
    "1. 점점 작은 단위 종료조건으로 다가가야함 "
   ]
  },
  {
   "cell_type": "code",
   "execution_count": null,
   "metadata": {},
   "outputs": [],
   "source": [
    "def factorial(n);\n",
    "    if n==1:\n",
    "        return 1\n",
    "    return n * factorial(n-1)\n",
    "result = factorial(5)\n",
    "print(result)"
   ]
  },
  {
   "cell_type": "markdown",
   "metadata": {},
   "source": [
    "# 유용한 함수\n",
    "\n",
    "1. map(함수, iterable) \n",
    " - iterable은 반복가능한 친구 ex 시퀀스 \n",
    " - 단 map 덩어리는 쓰려는 list로 바꿔줘야함\n",
    "2. zip \n",
    " - 임의의 iterable 모아 튜플 원소로 하는 zip obj 반환\n",
    "3. lambda \n",
    " - 연산이나 함수를 한줄로 표현. 함수를 매개변수로 전달시에도 활용 "
   ]
  },
  {
   "cell_type": "code",
   "execution_count": 15,
   "metadata": {},
   "outputs": [
    {
     "name": "stdout",
     "output_type": "stream",
     "text": [
      "[('a', 'x'), ('b', 'y')]\n"
     ]
    }
   ],
   "source": [
    "girls = ['a', 'b', 'c']\n",
    "boys = ['x', 'y']\n",
    "pair = zip(girls, boys) # zip으로 묶어 주는 함수\n",
    "\n",
    "print(list(pair)) #map처럼 zip도 마찬가지로 list 로 형변환 필요 "
   ]
  },
  {
   "cell_type": "code",
   "execution_count": 21,
   "metadata": {},
   "outputs": [
    {
     "name": "stdout",
     "output_type": "stream",
     "text": [
      "[1, 4, 9, 16, 25]\n"
     ]
    }
   ],
   "source": [
    "#함수 lambda\n",
    "# addition = lambda x, y: x+y\n",
    "\n",
    "# result = addition(3,5)\n",
    "# print(result)\n",
    "\n",
    "# map과 같이 일회용 함수 만들고 싶을때 많이 쓰임 \n",
    "numbers = [1, 2, 3, 4, 5]\n",
    "result = list(map(lambda x: x**2, numbers))\n",
    "print(result)"
   ]
  },
  {
   "cell_type": "markdown",
   "metadata": {},
   "source": [
    "# 패킹과 언패킹\n",
    "1. 패킹 : 여러개 값을 하나 변수에 넣음 \n",
    "    - *args 가 패킹. \n",
    "    - values = 1,2,3,4,5 에 대해 print(values) = (1,2,3,4,5)\n",
    "    - ```numbers = [1,2,3,4,5] 에 대해 a, *b, c = numbers print (b) = 2,3,4```\n",
    "\n",
    "2. 언패킹:\n",
    "    - values = 1,2,3,4,5  //  a,b,c,d,e = values 일때 // print(a,b,c,d,e) = 1 2 3 4 5   "
   ]
  },
  {
   "cell_type": "code",
   "execution_count": 23,
   "metadata": {},
   "outputs": [
    {
     "name": "stdout",
     "output_type": "stream",
     "text": [
      "1 2 3\n"
     ]
    }
   ],
   "source": [
    "# 언패킹 \n",
    "def my_function(x,y,z):\n",
    "    print(x,y,z)\n",
    "\n",
    "my_dict = {'x':1, 'y':2, 'z':3}\n",
    "my_function(**my_dict)"
   ]
  }
 ],
 "metadata": {
  "kernelspec": {
   "display_name": "Python 3",
   "language": "python",
   "name": "python3"
  },
  "language_info": {
   "codemirror_mode": {
    "name": "ipython",
    "version": 3
   },
   "file_extension": ".py",
   "mimetype": "text/x-python",
   "name": "python",
   "nbconvert_exporter": "python",
   "pygments_lexer": "ipython3",
   "version": "3.9.13"
  }
 },
 "nbformat": 4,
 "nbformat_minor": 2
}
