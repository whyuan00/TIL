{
 "cells": [
  {
   "cell_type": "markdown",
   "metadata": {},
   "source": [
    "# 모듈 \n",
    "미리 만들어놓은 내장함수\n",
    "1. ```import math``` 후 모듈명.함수명\n",
    "2. ```from math import pi, sqrt``` 로 원하는 함수만 불러와 축약 쓰기 \n",
    "3. ```from math import *``` 모든 함수 불러와 축약으로 쓰기\n",
    "\n",
    "- 가장 명시적인 것은 import math 후 math.pi, math.sqrt 같이 모듈명 같이 표기. 코드가 짧은 것보다 명시성이 중요 \n",
    "\n",
    "- import * 하면 여러 라이브러리 불러올때 함수 이름 겹치는 문제 발생가능"
   ]
  },
  {
   "cell_type": "code",
   "execution_count": null,
   "metadata": {},
   "outputs": [],
   "source": [
    "#math\n",
    "import math \n",
    "# print(help(math))\n",
    "\n",
    "# 모듈.변수명\n",
    "print(math.pi)\n",
    "# 모듈.함수명 \n",
    "print(math.sqrt(4))\n",
    "\n",
    "\n",
    "#또는 필요한 것만 불러와서 함수만 씀\n",
    "from math import pi, sqrt\n",
    "\n",
    "print(pi)\n",
    "print(sqrt(4))"
   ]
  },
  {
   "cell_type": "code",
   "execution_count": null,
   "metadata": {},
   "outputs": [],
   "source": [
    "#모듈만들기\n",
    "\n",
    "# def add(x,y):\n",
    "#     return x+y   #my_name 으로 다른파일에 저장 \n",
    "\n",
    "import my_math\n",
    "print(my_math.add(3,2))"
   ]
  },
  {
   "cell_type": "markdown",
   "metadata": {},
   "source": [
    "# 파이썬 표준 라이브러리(PSL)\n",
    "모듈이 모아서 패키지, 패키지가 모아서 라이브러리 \n",
    "\n",
    "# 패키지\n",
    "관련 모듈을 하나의 디렉토리에 모아놓은것 \n",
    " - psl 내부패키지: 바로 import 가능\n",
    " - 외부패키지: pip으로 설치 후 import\n",
    "    - pip:외부패키지 관리자 \n",
    "    - pip install '패키지이름'==1.05 같이 버전명시도 가능 "
   ]
  },
  {
   "cell_type": "code",
   "execution_count": null,
   "metadata": {},
   "outputs": [],
   "source": [
    "#1 my_package 가 최상단의 폴더라 먼저 접근 (내 파이썬 파일이 my_package 와 동일 폴더에 있어야함)\n",
    "#2 math 패키지(statistic 패키지)에 접속\n",
    "#그다음에 my_math와 tool 모듈 임포트 . 모듈을 파이썬 파일이라고 생각하기\n",
    "#마지막으로 함수들은 모듈(파이선 파일)에 저장된 함수들\n",
    "\n",
    "from my_package.math import my_math\n",
    "from my_package.statistics import tools\n",
    "\n",
    "\n",
    "print(my_math.add(1, 2))\n",
    "print(tools.mod(1, 2))\n"
   ]
  },
  {
   "cell_type": "code",
   "execution_count": 13,
   "metadata": {},
   "outputs": [],
   "source": [
    "# pip install requests #외부 요청 라이브러리\n",
    "\n",
    "import requests  "
   ]
  },
  {
   "cell_type": "markdown",
   "metadata": {},
   "source": [
    "# 제어문\n",
    "코드 실행흐름 제어 구문(조건실행&반복실행)\n",
    "\n",
    "## 조건문\n",
    "조건식 평가해서 참인경우에만 실행 or 건너뜀 \n",
    "\n",
    "## 반복문\n",
    "for 과 while \n",
    "\n",
    "\n",
    "1. for: 시퀀스의 항목들을 하나씩 순서대로 반복 \n",
    "    - 반복 횟수가 명확할떄 유용\n",
    "    - ***str***, tuple, list, range\n",
    "    - dict,set 도 시퀀스는 아니지만 반복가능 객체에 해당 \n",
    "\n",
    "2. 주어진 조건이 false가 될때까지 반복\n",
    "    - ex. 사용자 입력받아서 특정 조건 충족시까지 반복\n",
    "    - while문은 종료조건에 다가가도록 짜야함\n",
    "    - 한눈에 몇번 반복할지 모르기때문에 어려움 \n",
    "\n",
    "**내가 끝을 알고 있고 반복횟수를 딱 정할거면 for**"
   ]
  },
  {
   "cell_type": "code",
   "execution_count": 17,
   "metadata": {},
   "outputs": [
    {
     "name": "stdout",
     "output_type": "stream",
     "text": [
      "k\n",
      "o\n",
      "r\n",
      "e\n",
      "a\n"
     ]
    }
   ],
   "source": [
    "#문자열도 반복문이라 for 구문에 넣을 수 있음\n",
    "#변수명 지을때 문자 한개를 char로 주로 표현(파이썬 스타일가이즈)\n",
    "country = 'korea'\n",
    "for char in country:\n",
    "    print(char)"
   ]
  },
  {
   "cell_type": "code",
   "execution_count": null,
   "metadata": {},
   "outputs": [],
   "source": [
    "my_dict = {\n",
    "    'x':10, \n",
    "    'y':20,\n",
    "    'z':30\n",
    "}\n",
    "for key in my_dict:\n",
    "    print(key, my_dict[key])\n",
    "    # 딕셔너리로 반복문 돌리면 키가 나옴 "
   ]
  },
  {
   "cell_type": "code",
   "execution_count": null,
   "metadata": {},
   "outputs": [],
   "source": [
    "numbers = [4,6,10,-8,5]\n",
    "\n",
    "for i in range(len(numbers)):\n",
    "    numbers[i] = numbers[i] *2\n",
    "# 인덱스로 접근해서 요소를 두배 늘림 "
   ]
  },
  {
   "cell_type": "code",
   "execution_count": null,
   "metadata": {},
   "outputs": [],
   "source": [
    "# 중첩반복문\n",
    "outers = ['a','b']\n",
    "inners = ['c','d']\n",
    "\n",
    "for outer in outers:\n",
    "    for inner in inners:\n",
    "        print(outer, inner)\n",
    "# 안쪽 반복문이 다 돌아간 뒤에 바깥 반복문이 돌아감         "
   ]
  },
  {
   "cell_type": "code",
   "execution_count": 49,
   "metadata": {},
   "outputs": [
    {
     "name": "stdout",
     "output_type": "stream",
     "text": [
      "a ['a', 'b']\n",
      "b ['a', 'b']\n",
      "c ['c', 'd']\n",
      "d ['c', 'd']\n",
      "ab\n",
      "cd\n"
     ]
    }
   ],
   "source": [
    "#중첩 반복 \n",
    "elements = [['a','b'],['c','d']]\n",
    "\n",
    "for elems in elements:\n",
    "    for elem in elems:\n",
    "        print(elem, elems)\n",
    "\n",
    "for elems in elements:\n",
    "    print(\"\".join(map(str,elems)))\n",
    "    "
   ]
  },
  {
   "cell_type": "markdown",
   "metadata": {},
   "source": [
    "# 반복제어 (반복문 일부만 실행)\n",
    "원하는 값을 찾았을때 반복을 중단 \n",
    "1. break\n",
    "2. continue\n",
    "\n"
   ]
  },
  {
   "cell_type": "code",
   "execution_count": null,
   "metadata": {},
   "outputs": [],
   "source": [
    "#리스트에서 첫번째 짝수 찾고 종료\n",
    "found_even = False\n",
    "numbers = [1,3,4,6,7,9,10]\n",
    "for num in numbers:\n",
    "    if num %2 ==0:\n",
    "        print('첫번쨰 짝수를 찾았습니다', num)\n",
    "        found_even = True\n",
    "        break\n",
    "if not found_even:\n",
    "    print('짝수를 찾지 못했습니다')"
   ]
  },
  {
   "cell_type": "code",
   "execution_count": null,
   "metadata": {},
   "outputs": [],
   "source": [
    "#홀수만 출력\n",
    "numbers = [1,3,4,6,7,9,10]\n",
    "for num in numbers:\n",
    "    if num %2 ==0:\n",
    "        continue\n",
    "    print(num)\n",
    "\n",
    "#짝수는 프린트 문이 실행안됨 "
   ]
  },
  {
   "cell_type": "markdown",
   "metadata": {},
   "source": [
    "# 리스트 컴프리핸션\n",
    "간결하고 효율적인 리스트 생성 \n",
    "[expression for 변수 in iterable if 조건식]\n",
    "list(expression for 변수 in iterable if 조건식)"
   ]
  },
  {
   "cell_type": "code",
   "execution_count": null,
   "metadata": {},
   "outputs": [],
   "source": [
    "#1.\n",
    "for num in numbers:\n",
    "    squared_numbers.append(num**2)\n",
    "#2.\n",
    "squared_numbers = [num**2 for num in numbers]"
   ]
  },
  {
   "cell_type": "code",
   "execution_count": 51,
   "metadata": {},
   "outputs": [
    {
     "name": "stdout",
     "output_type": "stream",
     "text": [
      "인덱스 0:['과일', '사과']\n",
      "인덱스 1:['과일', '사과']\n"
     ]
    }
   ],
   "source": [
    "## enumerate\n",
    "fruits = ['과일','사과']\n",
    "for index, fruit in enumerate(fruits):\n",
    "    print(f'인덱스 {index}:{fruits}')"
   ]
  }
 ],
 "metadata": {
  "kernelspec": {
   "display_name": "Python 3",
   "language": "python",
   "name": "python3"
  },
  "language_info": {
   "codemirror_mode": {
    "name": "ipython",
    "version": 3
   },
   "file_extension": ".py",
   "mimetype": "text/x-python",
   "name": "python",
   "nbconvert_exporter": "python",
   "pygments_lexer": "ipython3",
   "version": "3.9.13"
  }
 },
 "nbformat": 4,
 "nbformat_minor": 2
}
