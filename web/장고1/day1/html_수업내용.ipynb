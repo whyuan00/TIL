{
 "cells": [
  {
   "cell_type": "markdown",
   "metadata": {},
   "source": [
    "html 은 구조\n",
    "css 는 디자인\n",
    "javascript 는 행동 \n",
    "\n",
    "마크업 랭귀지는 태그등을 이용해서 문서,데이터 구조 명시하는 언어 \n",
    "'마크업 한다' = 구조화 한다"
   ]
  },
  {
   "cell_type": "code",
   "execution_count": null,
   "metadata": {},
   "outputs": [],
   "source": [
    "<!DOCTYE html> # 문서타입 나타냄\n",
    "<html lang = \"en\"> # 여는태그, 전체 페이지 컨텐츠 포함\n",
    "<head> # head에는 문서 관련 설정 작성, 사용자에게 보여지지 않음 \n",
    "\n",
    "\n",
    "</head>\n",
    "<body> # 실제 내용이 들어감 \n",
    "\n",
    "</body>\n",
    "\n",
    "</html>  # 닫는 태그, 전체 페이지 컨텐츠 마감  \n"
   ]
  },
  {
   "cell_type": "code",
   "execution_count": null,
   "metadata": {},
   "outputs": [],
   "source": [
    "<p> my cat is grumpy </p> # 하나의 요소/ 닫는 태그가 없는태그도 있음\n",
    "\n",
    "# 요소 이름과 속성 사이에 공백있어야함\n",
    "# class~ 부터 note 까지가 하나의 속성\n",
    "<p class=\"editor-note\"> </p>"
   ]
  },
  {
   "cell_type": "markdown",
   "metadata": {},
   "source": []
  }
 ],
 "metadata": {
  "language_info": {
   "name": "python"
  }
 },
 "nbformat": 4,
 "nbformat_minor": 2
}
