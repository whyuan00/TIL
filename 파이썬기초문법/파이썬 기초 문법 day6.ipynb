{
 "cells": [
  {
   "cell_type": "markdown",
   "metadata": {},
   "source": [
    "# 데이터 구조 \n",
    "데이터 구조 활용: 문자열,리스트,딕셔너리 등 데이터구조의 메서드 호출하여 다양한 기능 활용 \n",
    "\n",
    "## 메서드\n",
    "객체에 속한 함수\n",
    "클래스 내부에 정의되는 함수\n",
    "데이터 타입에 따라 여러 메서드가 있음 \n",
    "\n",
    "- 클래스는 파이썬에서 '타입을 표현하는 방법' "
   ]
  },
  {
   "cell_type": "code",
   "execution_count": null,
   "metadata": {},
   "outputs": [],
   "source": [
    "'hello'.capitalize()\n",
    "[].append()"
   ]
  },
  {
   "cell_type": "markdown",
   "metadata": {},
   "source": [
    "## 시퀀스 데이터 구조\n",
    "\n",
    "문자열 조회,탐색,검증 메서드\n",
    "- find(x): x의 첫번째 위치 반환(없으면 -1)\n",
    "- index(x): x 첫번째 위치 반환, 없으면 오류 \n",
    "\n",
    "# return 이 bool값 \n",
    "- isalpha()\n",
    "- isupper()\n",
    "- islower()\n",
    "\n",
    "- title()\n",
    "- swapcase() # 대소문자 대체 "
   ]
  },
  {
   "cell_type": "code",
   "execution_count": null,
   "metadata": {},
   "outputs": [],
   "source": [
    "list = 'world'\n",
    "list.find('a')\n",
    "list.index('a') # ValueError: substring not found"
   ]
  },
  {
   "cell_type": "code",
   "execution_count": 33,
   "metadata": {},
   "outputs": [
    {
     "name": "stdout",
     "output_type": "stream",
     "text": [
      "False\n",
      "False\n"
     ]
    }
   ],
   "source": [
    "string1 = 'hello'\n",
    "string2 = '123'\n",
    "\n",
    "print(string2.isalpha())\n",
    "print(string1.isupper())"
   ]
  },
  {
   "cell_type": "markdown",
   "metadata": {},
   "source": [
    "## 문자열 조작메서드\n",
    "단 문자열은 변경불가능 시퀀스라서\n",
    "조작메서드 활용하면 새로운 문자열을 뱉음 \n",
    "\n",
    "s.replace(기존,새거[,개수]) \n",
    "- 언어가 달라도 선택인자 표기법 [,_]도입. (확장된)베커스나우르 표기법\n",
    "\n",
    "\n",
    "s.strip(chars)\n",
    "- 문자열 시작과 끝의 공백 또는 문자열 제거 \n",
    "\n",
    "s.spslit(sep=None, maxsplit=-1)\n",
    "- ','  로 인지 입력시 ,를 구분자로 사용 \n",
    "\n",
    "구분자.join()\n",
    "- 하나의 문자열로 연결 스플릿과 반대. \n",
    "```python\n",
    "'-'.join(words) = Hellow-world                        \n",
    "```\n",
    "\n",
    "\n",
    "# 메서드 이어서 사용가능\n",
    "new_text = text.swapcase().replace('l','z')"
   ]
  },
  {
   "cell_type": "markdown",
   "metadata": {},
   "source": [
    "## 리스트 조작 메서드 \n",
    "\n",
    "l.append()\n",
    "- 리스트에 리스트 추가 #[1,2,3] 에다가 [4,5,6] append = [1,2,3,[4,5,6]]\n",
    "\n",
    "l.extend()\n",
    "- 다른 객체의 모든 항목 추가 #[1,2,3] 에다가 [4,5,6] 을 extend = [1,2,3,4,5,6]\n",
    "\n",
    "***print(my_list.append()) 이러면 None 이 나옴 . 이유는 원본값이 안바뀌어서***\n",
    "\n",
    "l.insert(i,x)\n",
    "- i 위치에 x 삽입\n",
    "\n",
    "l. remove(x)\n",
    "- 첫번쨰 일치값 삭제\n",
    "\n",
    "l.pop(i)\n",
    "- 지정 인덱스 값 제거하고 반환 \n",
    "\n",
    "\n",
    "## 탐색과 정렬 메서드 \n",
    "\n",
    "l.index(x,start,end) \n",
    "- 가장 왼쪽 x 인덱스 반환, 검색 범위 지정 가능, 찾은 값 반환할수 있음\n",
    "\n",
    "l.reverse() - 역순변경\n",
    "\n",
    "l.sort() \n",
    "- '원본 리스트'를 오름차순 정렬.\n",
    "- 원본을 정렬하기때문에 sort 자체의 메서드 반환값은 None.  \n",
    "\n",
    "l.count(x) - x의 개수 반환\n",
    "\n",
    "\n",
    "## 문자열 유형 메서드\n",
    "\n",
    "어디까지 숫자로 볼건지 판단하는 메서드(암기아님)\n",
    "\n",
    "isdecimal(): 문자열이 모두 숫자문자(0~9) 여야 True\n",
    "isdigit() : 유니코드 숫자도 인식\n",
    "isnumeric() : 분수,지수,루트 기호도 인식 "
   ]
  },
  {
   "cell_type": "code",
   "execution_count": 43,
   "metadata": {},
   "outputs": [
    {
     "name": "stdout",
     "output_type": "stream",
     "text": [
      "[1, 2, 3, 'insert', 4, 5]\n",
      "[1, 2, 'x', 3, 'insert', 4, 5]\n"
     ]
    }
   ],
   "source": [
    "l = [1,2,3,4,5]\n",
    "l.insert(3,'insert')\n",
    "print(l)\n",
    "\n",
    "l.insert(2,'x')\n",
    "print(l)"
   ]
  },
  {
   "cell_type": "code",
   "execution_count": 58,
   "metadata": {},
   "outputs": [
    {
     "data": {
      "text/plain": [
       "3"
      ]
     },
     "execution_count": 58,
     "metadata": {},
     "output_type": "execute_result"
    }
   ],
   "source": [
    "l = [1,2,3,4,5]\n",
    "l.index(2) # 2찾기, 찾은값 반환함 \n",
    "l.index(4,1,5) # 3부터 5까지 중 4찾기 "
   ]
  },
  {
   "cell_type": "code",
   "execution_count": 66,
   "metadata": {},
   "outputs": [
    {
     "name": "stdout",
     "output_type": "stream",
     "text": [
      "None\n",
      "None\n",
      "[3, 3, 3, 4, 4, 5.1]\n"
     ]
    }
   ],
   "source": [
    "l = [3,4,3,4,5.1,3]\n",
    "print(l.sort()) # None\n",
    "\n",
    "sorted_list = l.sort() # 새로운 리스트를 .sort() 할때\n",
    "print(sorted_list) # None . sort은 원본을 손대기 대문 \n",
    "\n",
    "print(l) # 원본을 반환해야함 \n",
    "\n",
    "# sort의 기본인자값은 reverse = True. 이걸 False 바꾸면 내림차순됨\n",
    "l.sort(reverse=True)"
   ]
  },
  {
   "cell_type": "markdown",
   "metadata": {},
   "source": [
    "# 복사\n",
    "파이썬에서는 데이터 분류에 따라 복사달라짐\n",
    "변경가능 타입과 불가능 타입이 다름 \n",
    "**불변타입일때만 우리가 생각하는 복사가 가능**\n",
    "\n",
    "1. 리스트 복사 : b=a 일때 b에 새로운 리스트가 생기는게 아님. 동일 주소 참조\n",
    "```python\n",
    "a = [1,2,3,4]\n",
    "b = a # a와 동일한 주소에 b를 할당. 우리가 생각하는 복사가 아님!\n",
    "\n",
    "b[0] = 100 \n",
    "print(b) #[100, 2, 3, 4]\n",
    "print(a) #[100, 2, 3, 4]\n",
    "```\n",
    "\n",
    "2. 정수 복사: b=a 에 대해 int 는 불변이기때문에 새로운 주소(새 값) 할당. \n",
    "\n",
    "```python\n",
    "a = 100\n",
    "b = a\n",
    "\n",
    "b = 9\n",
    "print(b,a) # 9 100\n",
    "```\n",
    "\n",
    "\n",
    "## 복사 유형\n",
    "\n",
    "1. 할당\n",
    "2. 얕은 복사\n",
    "3. 깊은 복사"
   ]
  },
  {
   "cell_type": "code",
   "execution_count": 76,
   "metadata": {},
   "outputs": [
    {
     "name": "stdout",
     "output_type": "stream",
     "text": [
      "[100, 2, 3]\n",
      "[100, 2, 3] [1, 2, 3]\n",
      "[1, 2, [999, 200]] [1, 2, [999, 200]]\n",
      "[1, 2, [999, 200]] [1, 2, [100, 200]]\n"
     ]
    }
   ],
   "source": [
    "# 1. 할당 : \"객체 참조를 복사\"\n",
    "original_list = [1,2,3]\n",
    "copy_list = original_list #할당 \n",
    "\n",
    "copy_list[0] = 100 \n",
    "print(original_list) # 동일 리스트 참조하기 때문에 원본(같이 바라보는 큰 주소) 바뀜\n",
    "\n",
    "\n",
    "\n",
    "# 2. 얕은 복사\n",
    "a = [1,2,3]\n",
    "b = a[:] # 슬라이싱: 자른 새로운 리스트를 반환. 즉 주소가 전혀 다른 리스트가 생성됨\n",
    "\n",
    "b[0] = 100\n",
    "print(b,a) # a와 b가 다른 주소 참조, b주소가 참조하는 값만 바뀜 \n",
    "\n",
    "\n",
    "   # 얕은 복사의 한계 : 2차원 리스트에서는 복사가 안됨\n",
    "a = [1,2,[100,200]]\n",
    "b = a[:] # 리스트 안의 리스트는 여전히 같은 주소 가지고 있음 \n",
    "\n",
    "b[2][0] = 999\n",
    "print(b,a) # a와 b가 같은 2차원 리스트 참조 \n",
    "\n",
    "\n",
    "\n",
    "# 3. 깊은 복사 : import copy _ 표준 라이브러리 모듈\n",
    "import copy \n",
    "a = [1,2,[100,200]]\n",
    "b = copy.deepcopy(a) # 완벽하게 카피한 주소 생성하는 deepcopy 함수\n",
    "\n",
    "b[2][0] = 999 \n",
    "print(b,a) # 이중리스트도 완전히 새로운 주소 갖게 됨 "
   ]
  }
 ],
 "metadata": {
  "kernelspec": {
   "display_name": "Python 3",
   "language": "python",
   "name": "python3"
  },
  "language_info": {
   "codemirror_mode": {
    "name": "ipython",
    "version": 3
   },
   "file_extension": ".py",
   "mimetype": "text/x-python",
   "name": "python",
   "nbconvert_exporter": "python",
   "pygments_lexer": "ipython3",
   "version": "3.9.13"
  }
 },
 "nbformat": 4,
 "nbformat_minor": 2
}
