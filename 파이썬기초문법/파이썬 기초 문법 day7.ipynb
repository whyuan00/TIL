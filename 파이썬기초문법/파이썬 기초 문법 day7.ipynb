{
 "cells": [
  {
   "cell_type": "markdown",
   "metadata": {},
   "source": [
    "# set 메서드\n",
    "\n",
    "s.add(x) - 기존 세트에 x를 추가 cf. l.insert(i,x)\n",
    "\n",
    "s.clear(x) - 기존 세트를 클리어\n",
    "\n",
    "s.remove(x) - 세트의 요소 지우기, x없으면 ***에러***  cf. l.remove(x)\n",
    "\n",
    "s.pop(i) - **임의** 요소 제거 후 반환(세트에는 순서x라서 ) cf. l.pop([i]) , i없으면 마지막부터 제거  \n",
    "\n",
    "s.update(iterable) - 다른 iterable 요소 추가 cf. l.extend \n",
    "\n",
    "s.discard(x) - 세트 요소지우기, remove와 달리 ***에러 없음***\n"
   ]
  },
  {
   "cell_type": "code",
   "execution_count": 35,
   "metadata": {},
   "outputs": [
    {
     "name": "stdout",
     "output_type": "stream",
     "text": [
      "{'b', 1, 2, 3, 4, 'c', 'a'}\n",
      "{'b', 1, 2, 3, 4, 'c'}\n",
      "None\n",
      "b\n",
      "set()\n"
     ]
    }
   ],
   "source": [
    "my_set = {1,2,3,4,'a','b','c'}\n",
    "my_set.add(4)\n",
    "print(my_set)\n",
    "\n",
    "my_set.remove('a')\n",
    "print(my_set)\n",
    "\n",
    "element = my_set.pop()  # pop 뺀 요소를 반환 가능 \n",
    "print(element)\n",
    "\n",
    "element = my_set.discard('z')  # discard 에러 생기지 않음, 반환하는 것도 아님 \n",
    "print(element)\n",
    "\n",
    "my_set.clear()\n",
    "print(my_set) # 빈세트는 {} 가 아니라 set()로 표현, 딕셔너리와 안햇갈리도록. "
   ]
  },
  {
   "cell_type": "code",
   "execution_count": 31,
   "metadata": {},
   "outputs": [
    {
     "name": "stdout",
     "output_type": "stream",
     "text": [
      "{'b', 1, 2, 3, 4, 5, 6, 7, 'a', 'c'}\n"
     ]
    }
   ],
   "source": [
    "my_set = {1,2,3,4,'a','b','c'}\n",
    "\n",
    "my_set.update([5,6,7])  # 리스트를 update 하면 extend 와 동일하게 요소 하나씩 넣어줌 \n",
    "print(my_set)"
   ]
  },
  {
   "cell_type": "markdown",
   "metadata": {},
   "source": [
    "세트 연산 메서드\n",
    "\n",
    "- set1.difference(set2)  (set1 - set2) : 1에는 있고 2에는 없는 요소의 세트 **생성** 후 반환\n",
    "- set1.intersection(set2)  (set1 & set2) : 1, 2모두 있는 요소의 세트 **생성** 후 반환\n",
    "- set1.issubset(set2)  (set1 <= set2) : 1요소가 2에 다 잇으면 True\n",
    "- set1.issuperset(set2)  (set1 => set2) : 2요소가 1에 다 잇으면 True\n",
    "- set1.union(set2)  (set1 | set2) : 1, 2의 요소들 모두 모아 세트 **생성** 후 반환\n"
   ]
  },
  {
   "cell_type": "markdown",
   "metadata": {},
   "source": [
    "# 딕셔너리\n",
    "고유한 항목들의 정렬되지 않은 컬렉션 \n",
    "\n",
    "- D.clear() : D의 모든 쌍 제거\n",
    "\n",
    "- D.get(key[,default]): 키값과 연결된 밸류값 반환 또는 기본값 반환 ***키로 밸류찾기***\n",
    "\n",
    "- D.keys() & D.values(): 모든 키값 반환 & 밸류값 반환   \n",
    "\n",
    "- D.items()\n",
    "\n",
    "- D.pop(key[,default]): 키 제거하고 연결값 반환(없으면 에러나 디폴트)\n",
    "\n",
    "- D.setdefault(key[,default]) : 키와 연결된 값반환, 없으면 key:default 를 추가 하고 default 반환 \n",
    "\n",
    "\n"
   ]
  },
  {
   "cell_type": "code",
   "execution_count": null,
   "metadata": {},
   "outputs": [],
   "source": [
    "#밸류값을 찾을때 dict.get(key)와 dict[\"key\"]의 차이# \n",
    "\n",
    "dict = {'a':1, 'b':2, 'c':3}\n",
    "print(dict.get('d','없습니다')) # None\n",
    "print(dict['d']) # error \n",
    "\n"
   ]
  },
  {
   "cell_type": "code",
   "execution_count": null,
   "metadata": {},
   "outputs": [],
   "source": [
    "dict = {\n",
    "    'name': 'Alice',\n",
    "    'age':25\n",
    "}\n",
    "\n",
    "print(dict.get('name'))  # 밸류값 리턴\n",
    "print(dict.get('country')) # 없으면 None\n",
    "print(dict.get('country','키가 없습니다')) #없을때 '~'으로 대답해라\n",
    "\n",
    "\n",
    "dict.clear()\n",
    "print(dict) # 빈 딕셔너리는 {}\n",
    " \n"
   ]
  },
  {
   "cell_type": "code",
   "execution_count": null,
   "metadata": {},
   "outputs": [],
   "source": [
    "dict = {\n",
    "    'name': 'Alice',\n",
    "    'age':25\n",
    "}\n",
    "\n",
    "print(dict.keys()) # 원한는 형태로 프린트 안될수 있음\n",
    "\n",
    "for key in dict.keys():\n",
    "    print(key) #key만 프린트 \n",
    "\n",
    "for key,value in dict.items():\n",
    "    print(key,value)   # i 로 넣었을때와 key,value로 넣었을때 차이 확인 \n"
   ]
  },
  {
   "cell_type": "markdown",
   "metadata": {},
   "source": []
  },
  {
   "cell_type": "code",
   "execution_count": 57,
   "metadata": {},
   "outputs": [
    {
     "name": "stdout",
     "output_type": "stream",
     "text": [
      "unknown\n",
      "{'name': 'Alice', 'age': 25, 'country': 'unknown'}\n",
      "{'name': 'Jane', 'age': 25, 'country': 'unknown', 'gender': 'Female'}\n",
      "Jane\n",
      "{'age': 25, 'country': 'unknown', 'gender': 'Female'}\n"
     ]
    }
   ],
   "source": [
    "dict = {\n",
    "    'name': 'Alice',\n",
    "    'age':25\n",
    "}\n",
    "\n",
    "\n",
    "result = dict.setdefault('country','unknown') # country 키가 없기때문에  country: unknown 추가 \n",
    "print(result)\n",
    "print(dict)\n",
    "\n",
    "\n",
    "other_person = {'name': 'Jane', 'age': 25, 'gender':'Female'}\n",
    "dict.update(other_person)  # update 할때 alice -> jane 으로 키가덮어씌워짐 \n",
    "print(dict)\n",
    "\n",
    "\n",
    "element = dict.pop('name','해당 키는 존재하지 않습니다') # name 없애면서 name에 대한 밸류 반환 \n",
    "print(element)\n",
    "print(dict)\n",
    "\n",
    "\n"
   ]
  },
  {
   "cell_type": "markdown",
   "metadata": {},
   "source": [
    "# 해시테이블 \n",
    "\n",
    "해시함수로 변환값을 index삼아 key,value 저장 자료구조\n",
    "\n",
    "## 해시테이블 원리\n",
    "\n",
    "- 키를 해시함수로 해시값으로 변환,\n",
    "해시값을 인덱스로 사용해서 데이터 저장&검색\n",
    "- 데이터 검색이 매우 빠름\n",
    "\n",
    "### 해시\n",
    "- 임의 데이터를 고정된 값으로 바꾸는 것.\n",
    "- 딕셔너리에서 키가 해시함수를 통해 해시값으로 변환됨\n",
    "- 그 해시값이 인덱스가 되고 인덱스에 밸류값 저장\n",
    "\n",
    "```python\n",
    "\n",
    "dict = {\n",
    "    'john': '521-1234'\n",
    "    'lisa': '521-8976'\n",
    "    'sandra': '521-9655'\n",
    "}\n",
    "\n",
    "dict.get('lisa')\n",
    "\n",
    "#리스트의 경우 선형검색으로 찾아야함\n",
    "#딕셔너리는 키값으로 바로 뽑을 수 있음, 그 이유가 해시테이블 원리 \n",
    "```"
   ]
  },
  {
   "cell_type": "code",
   "execution_count": 59,
   "metadata": {},
   "outputs": [
    {
     "name": "stdout",
     "output_type": "stream",
     "text": [
      "1\n",
      "2\n",
      "3\n",
      "100\n",
      "4\n",
      "9\n",
      "set()\n"
     ]
    }
   ],
   "source": [
    "my_set = {3,2,1,9,100,3,4}\n",
    "print(my_set.pop())\n",
    "print(my_set.pop())\n",
    "print(my_set.pop())\n",
    "print(my_set.pop())\n",
    "print(my_set.pop())\n",
    "print(my_set.pop())\n",
    "print(my_set)\n",
    "\n",
    "# 해시테이블에 먼저 저장된 순서부터 뺌. 정수값이 해시값 "
   ]
  },
  {
   "cell_type": "markdown",
   "metadata": {},
   "source": [
    "# 해시테이블 다시 듣기?"
   ]
  }
 ],
 "metadata": {
  "kernelspec": {
   "display_name": "Python 3",
   "language": "python",
   "name": "python3"
  },
  "language_info": {
   "codemirror_mode": {
    "name": "ipython",
    "version": 3
   },
   "file_extension": ".py",
   "mimetype": "text/x-python",
   "name": "python",
   "nbconvert_exporter": "python",
   "pygments_lexer": "ipython3",
   "version": "3.9.13"
  }
 },
 "nbformat": 4,
 "nbformat_minor": 2
}
