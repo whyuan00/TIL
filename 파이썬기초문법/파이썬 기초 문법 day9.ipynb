{
 "cells": [
  {
   "cell_type": "markdown",
   "metadata": {},
   "source": [
    "## 상속\n",
    "\n",
    "기존 클래스의 속성&메서드 받아 새로운 하위클래스 생성\n",
    "상속의 장점 \n",
    " 1) 코드 재사용 \n",
    " 2) 계층 구조 \n",
    " 3) 유지보수 용이성"
   ]
  },
  {
   "cell_type": "code",
   "execution_count": 6,
   "metadata": {},
   "outputs": [
    {
     "name": "stdout",
     "output_type": "stream",
     "text": [
      "컴퓨터공학과\n",
      "3.5\n",
      "잘부탁드립니다\n",
      "반갑습니다. 김학생입니다.\n"
     ]
    }
   ],
   "source": [
    "### 상속없이 구현시 \n",
    "\n",
    "class Person:\n",
    "    def __init__(self,name,age):\n",
    "        self.name = name\n",
    "        self.age = age\n",
    "\n",
    "    def talk(self):\n",
    "        print(f'반갑습니다. {self.name}입니다.')\n",
    "\n",
    "\n",
    "#Person의 공통점은 가져가되 교수와 학생을 따로 클래스로 만들고 싶은 경우? \n",
    "#Person 상속받고 필요한 부분만 변경주기 : class MyClass(상위클래스)\n",
    "        \n",
    "class Professor(Person): # 담당과목 받음\n",
    "    def __init__(self, name, age, department):\n",
    "        self.name = name\n",
    "        self.age = age\n",
    "        self.department = department\n",
    "\n",
    "    def talk(self):\n",
    "        print(f'잘부탁드립니다')     \n",
    "\n",
    "class Student(Person): # gpa 받음 \n",
    "    def __init__(self, name, age, gpa):\n",
    "        self.name = name\n",
    "        self.age = age\n",
    "        self.gpa = gpa\n",
    "\n",
    "\n",
    "p1 = Professor('박교수',59,'컴퓨터공학과')\n",
    "p2 = Student('김학생',20,3.5)\n",
    "\n",
    "print(p1.department)\n",
    "print(p2.gpa)\n",
    "\n",
    "p1.talk()   #교수 클래스의 talk 먼저 찾게됨 \n",
    "p2.talk()   #학생 클래스에 없으면 상속된 상위클래스(Person) 가서 찾음"
   ]
  },
  {
   "cell_type": "markdown",
   "metadata": {},
   "source": [
    "super() 는 부모 클래스 객체 반환하는 내장함수\n",
    "\n",
    "class Person 에 대해 \n",
    "- Pserson.변수 로 안쓰고 왜 super()를 쓰는지?"
   ]
  },
  {
   "cell_type": "code",
   "execution_count": null,
   "metadata": {},
   "outputs": [],
   "source": [
    "class Person:\n",
    "    def __init__(self, name, age, number, email):\n",
    "        self.name = name\n",
    "        self.age = age\n",
    "        self.number = number\n",
    "        self.email = email\n",
    "\n",
    "# Student class에서 Student_id만 더 하고 싶은 경우에 supper 함수 쓰기\n",
    "        \n",
    "# 반복이 너무 많음 \n",
    "class Student(Person):   \n",
    "    def __init__(self, name, age, number, email, student_id):\n",
    "        self.name = name\n",
    "        self.age = age\n",
    "        self.number = number\n",
    "        self.email = email\n",
    "        self.student_id = student_id\n",
    "\n",
    "# 줄이기 : supper().__init__(self, , , ,) 호출 \n",
    "class Student(Person):\n",
    "    def __init__(self, name, age, number, email, student_id):\n",
    "        super().__init__(self, name, age, number, email) # 부모 위치인자 전부 들고와야함\n",
    "        self.student_id = student_id  \n",
    "\n",
    "\n",
    "\n",
    "# Person.__init__(self, name, age, number, email) 이렇게도 쓸수 있는데 왜 super?\n",
    "  #  1. Person의 클래스 이름이 바뀌면 나중에 다 고쳐야함\n",
    "  #  2. 현재는 단일상속만 진행하지만 다중상속시 문제됨.\n",
    "  #  만약 부모 클래스가 동일 메서드 가질때 어디의 메서드가 사용될지의 문제 \n"
   ]
  },
  {
   "cell_type": "markdown",
   "metadata": {},
   "source": [
    "## 다중상속\n",
    "둘 이상의 상위클래스에서 여러 행동,특징 상속.\n",
    "중복 속성이나 메서드 있을때 **상속 순서**가 중요함 "
   ]
  },
  {
   "cell_type": "code",
   "execution_count": 5,
   "metadata": {},
   "outputs": [
    {
     "name": "stdout",
     "output_type": "stream",
     "text": [
      "첫째가 수영\n",
      "아빠가 걷기\n",
      "XY\n"
     ]
    }
   ],
   "source": [
    "\n",
    "class Person:\n",
    "    def __init__(self, name):\n",
    "        self.name = name\n",
    "\n",
    "    def greeting(self):\n",
    "        return f'안녕, {self.name}'\n",
    "\n",
    "\n",
    "class Mom(Person):\n",
    "    gene = 'XX'\n",
    "\n",
    "    def swim(self):\n",
    "        return '엄마가 수영'\n",
    "\n",
    "\n",
    "class Dad(Person):\n",
    "    gene = 'XY'\n",
    "\n",
    "    def walk(self):\n",
    "        return '아빠가 걷기'\n",
    "\n",
    "\n",
    "class FirstChild(Dad,Mom): # 다중상속: 나열하면 됨 \n",
    "    def swim(self):\n",
    "        return '첫째가 수영'\n",
    "    \n",
    "    def cry(self):\n",
    "        return '첫째가 응애'\n",
    "    \n",
    "\n",
    "baby1 = FirstChild('김사피') #생성자 함수도 상속받기때문에 위까지 인자 찾으러 올라감 \n",
    "\n",
    "print(baby1.swim())\n",
    "print(baby1.walk()) # walk 메서드는 아빠만 있음\n",
    "print(baby1.gene) #속성은 '()' 이거 안씀 # 아빠거 들고옴 #아빠 상속먼저 받음 \n",
    "\n"
   ]
  },
  {
   "cell_type": "markdown",
   "metadata": {},
   "source": [
    "## 다이아몬드 문제\n",
    "\n",
    "[!이미지]()\n",
    "\n",
    "\n",
    "MRO 순서\n",
    "D B C A 로 가게됨 \n",
    "\n",
    "- super() : 다중상속시 MRO 기반으로 부모클래스 자동 호출\n"
   ]
  },
  {
   "cell_type": "code",
   "execution_count": 10,
   "metadata": {},
   "outputs": [
    {
     "name": "stdout",
     "output_type": "stream",
     "text": [
      "Value from ParentA: ParentA\n",
      "Value from Child: child\n",
      "ParentA\n"
     ]
    }
   ],
   "source": [
    "#4번예제 \n",
    "class ParentA:\n",
    "    def __init__(self):\n",
    "        self.value_a = 'ParentA'\n",
    "\n",
    "    def show_value(self):\n",
    "        print(f'Value from ParentA: {self.value_a}')\n",
    "\n",
    "\n",
    "class ParentB:\n",
    "    def __init__(self):\n",
    "        self.value_b = 'ParentB'\n",
    "\n",
    "    def show_value(self):\n",
    "        print(f'Value from ParentB: {self.value_b}')\n",
    "\n",
    "\n",
    "class Child(ParentA,ParentB):\n",
    "    def __init__(self):\n",
    "        super().__init__()  #상속때문에 self.value_a = 'ParentA' 이게 있는거랑 같음 \n",
    "        self.value_c = 'child'\n",
    "    \n",
    "    def show_value(self):\n",
    "        super().show_value()\n",
    "        print(f'Value from Child: {self.value_c}')\n",
    "\n",
    "\n",
    "child = Child()\n",
    "child.show_value()\n",
    "print(child.value_a) # 상속된 생성자함수 때문에 변수 하나 더 가짐 \n",
    "print(child.value_c) # 원래 자기 변수\n",
    "print(child.value_b) # 에러 뜸. 이 변수는 ParentB의 생성자 함수로 되어있기떄문 \n",
    "\n"
   ]
  },
  {
   "cell_type": "code",
   "execution_count": 14,
   "metadata": {},
   "outputs": [
    {
     "name": "stdout",
     "output_type": "stream",
     "text": [
      "A Constructor\n",
      "C Constructor\n",
      "B Constructor\n",
      "D Constructor\n",
      "[<class '__main__.D'>, <class '__main__.B'>, <class '__main__.C'>, <class '__main__.A'>, <class 'object'>]\n"
     ]
    }
   ],
   "source": [
    "# 5번예제 \n",
    "class A:\n",
    "    def __init__(self):\n",
    "        print('A Constructor')\n",
    "\n",
    "\n",
    "class B(A):\n",
    "    def __init__(self):\n",
    "        super().__init__()\n",
    "        print('B Constructor')\n",
    "\n",
    "\n",
    "class C(A):\n",
    "    def __init__(self):\n",
    "        super().__init__()\n",
    "        print('C Constructor')\n",
    "\n",
    "\n",
    "class D(B, C):\n",
    "    def __init__(self):\n",
    "        super().__init__()\n",
    "        print('D Constructor')\n",
    "\n",
    "\n",
    "obj = D()\n",
    "\n",
    "\n",
    "### 콜스택 구조: 먼저 콜된 부분이 나중에 빠짐\n",
    "# 콜순서: d, b, c, a \n",
    "\n",
    "print(D.mro())\n"
   ]
  },
  {
   "cell_type": "markdown",
   "metadata": {},
   "source": [
    "MRO \n",
    "1. 부모클래스가 여러번 액세스되지않도록\n",
    "2. 각 클래스에서 왼->오 순서 보존\n",
    "3. 부모는 한번만 호출\n",
    "\n",
    "* 4번예제와 5번예제의 차이는\n",
    "4번에서는 Parent A 에 super() 없어서 생성자함수 자동호출x.\n",
    "그러나 5번은 모두 super()있기때문에 상속받고 있는 생성자함수 모두 호출 \n",
    "\n",
    "수퍼는 mro상으로 다음순서의 클래스 인스턴스(부모 클래스 인스턴스) 호출 "
   ]
  },
  {
   "cell_type": "markdown",
   "metadata": {},
   "source": [
    "## 디버깅\n",
    "소프트웨어에서 발생하는 오류 수정 \n",
    "디버깅 방법\n",
    "1. print 함수 활용\n",
    "2. 개발환경에서 제공하는 기능활용\n",
    "3. 파이썬 튜터 "
   ]
  },
  {
   "cell_type": "markdown",
   "metadata": {},
   "source": [
    "### 에러\n",
    "문법에러(syntax error)\n",
    "예외(exception)"
   ]
  },
  {
   "cell_type": "markdown",
   "metadata": {},
   "source": [
    "(문법에러 4가지)"
   ]
  },
  {
   "cell_type": "markdown",
   "metadata": {},
   "source": [
    "### 내장 예외 \n",
    "예외 상황 나타내는 클래스들. 이미 파이썬에 정의됨\n",
    "\n",
    "- 제로디비전에러: 0으로 나누는 에러 \n",
    "- 네임에러: 변수이름 못찾을때\n",
    "- 타입에러: 타입불일치, 인자 누락, 인자 초과, 인자타입 불일치 \n",
    "- 밸류에러: 부적절한 인자 받음, \n",
    "- 인덱스에러: 아웃오브 레인지 \n",
    "- 키에러: 딕셔너리에 해당키 없을때 \n",
    "- 모듈낫파운드에러: 모듈없을때\n",
    "- 임포트에러: 모듈에 원하는 함수없을때 \n",
    "- 키보드 인턱업트: 무한루프시 강제종류 : 컨트롤c 나 딜리트 연타하기\n",
    "- 인덴테이션에러: 잘못 들여씀 "
   ]
  },
  {
   "cell_type": "markdown",
   "metadata": {},
   "source": [
    "## 예외처리\n",
    "\n",
    "```python\n",
    "try:\n",
    "    #예외 발생가능한 코드 작성\n",
    "except 예외:\n",
    "    # 예외 발생시 처리코드 작성\n",
    "\n",
    "# 예외 발생시 try블록 빠져나와 except 블록로 이동"
   ]
  },
  {
   "cell_type": "code",
   "execution_count": 17,
   "metadata": {},
   "outputs": [
    {
     "name": "stdout",
     "output_type": "stream",
     "text": [
      "0으로 나눌수 없습니다\n",
      "숫자아님\n"
     ]
    }
   ],
   "source": [
    "try:\n",
    "    result = 10/0 \n",
    "except ZeroDivisionError: #다양한 예외처리 위해 에러 이름 넣어주면 좋음 \n",
    "    print('0으로 나눌수 없습니다')\n",
    "\n",
    "\n",
    "try:\n",
    "    num = int(input('숫자입력'))\n",
    "except ValueError:  \n",
    "    print('숫자아님')    #사용자와 상호작용 위해 쓰임 "
   ]
  },
  {
   "cell_type": "code",
   "execution_count": null,
   "metadata": {},
   "outputs": [],
   "source": [
    "#내장예외 클래스는 상속계층구조라 \n",
    "# except 절로 분기시 반드시 하위클래스 먼저 확인해야함.\n",
    "\n",
    "\n",
    "try:\n",
    "    int(input(''))\n",
    "except BaseException:\n",
    "    print('숫자')\n",
    "except ZeroDivisionError:\n",
    "    print('숫자')\n"
   ]
  },
  {
   "cell_type": "markdown",
   "metadata": {},
   "source": [
    "as 키워드: 여러 에러 메시지를 except 블록 사용 \n",
    "\n",
    "```python\n",
    "try:\n",
    "except IndexError as error:\n",
    "print(f'{error}발생')"
   ]
  },
  {
   "cell_type": "markdown",
   "metadata": {},
   "source": [
    "예뢰처리에 대한 두가지 접근방식\n",
    "\n",
    "EAP : 예외처리 중심으로 코드 작성 (try - except)\n",
    "LBYL: 값검사중심 코드 작성( if- else)\n"
   ]
  },
  {
   "cell_type": "code",
   "execution_count": null,
   "metadata": {},
   "outputs": [],
   "source": [
    "# 딕셔너리에서 키 조회시 키 없는 상황\n",
    "my_dict = {}\n",
    "\n",
    "#try - except\n",
    "\n",
    "try:\n",
    "    result = my_dict['a']\n",
    "    print(result)\n",
    "except KeyError:\n",
    "    print('키가존재안함')\n",
    "\n",
    "# if -else\n",
    "if 'a' not in my_dict:\n",
    "    result = my_dict['a']\n",
    "    print(result)\n",
    "else:\n",
    "    print('키가존재안함')"
   ]
  },
  {
   "cell_type": "markdown",
   "metadata": {},
   "source": [
    "파이썬 공식문서볼때: 문장 편하게 읽기\n",
    "\n"
   ]
  }
 ],
 "metadata": {
  "kernelspec": {
   "display_name": "Python 3",
   "language": "python",
   "name": "python3"
  },
  "language_info": {
   "codemirror_mode": {
    "name": "ipython",
    "version": 3
   },
   "file_extension": ".py",
   "mimetype": "text/x-python",
   "name": "python",
   "nbconvert_exporter": "python",
   "pygments_lexer": "ipython3",
   "version": "3.9.13"
  }
 },
 "nbformat": 4,
 "nbformat_minor": 2
}
