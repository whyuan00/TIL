{
 "cells": [
  {
   "cell_type": "markdown",
   "metadata": {},
   "source": [
    "## 유효한 팰린드롬 "
   ]
  },
  {
   "cell_type": "code",
   "execution_count": 11,
   "metadata": {},
   "outputs": [
    {
     "name": "stdout",
     "output_type": "stream",
     "text": [
      "True\n"
     ]
    }
   ],
   "source": [
    "input = \"A man, a plan, a canal: Panama\"\n",
    "\n",
    "input = input.lower()\n",
    "\n",
    "new_list  = []\n",
    "\n",
    "for i in input:\n",
    "    if i.isalpha() == True:\n",
    "        new_list.append(i)\n",
    "\n",
    "\n",
    "if new_list == new_list[::-1]:\n",
    "    print('True')\n",
    "else:\n",
    "    print('False')"
   ]
  },
  {
   "cell_type": "markdown",
   "metadata": {},
   "source": [
    "## 답지 "
   ]
  },
  {
   "cell_type": "code",
   "execution_count": null,
   "metadata": {},
   "outputs": [],
   "source": [
    "# pop 쓰기 \n",
    "\n",
    "input = \"A man, a plan, a canal: Panama\"\n",
    "input = input.lower()\n",
    "new_list  = []\n",
    "\n",
    "for i in input:\n",
    "    if i.isalnum(): # isalnum 영문자 숫자 판단 \n",
    "        new_list.append(i.lower()) # lower 메서드는 문자열 한개짜리에도 사용가능 \n",
    "\n",
    "while len(new_list) >1: \n",
    "        if new_list.pop(0) != new_list.pop():\n",
    "            print('False')\n",
    "        else:\n",
    "            print('True')\n"
   ]
  },
  {
   "cell_type": "code",
   "execution_count": null,
   "metadata": {},
   "outputs": [],
   "source": [
    "# 자료형 데크?"
   ]
  },
  {
   "cell_type": "code",
   "execution_count": null,
   "metadata": {},
   "outputs": [],
   "source": [
    "# re.sub('[^a-z0-9]', '', s) ??? p.141"
   ]
  }
 ],
 "metadata": {
  "kernelspec": {
   "display_name": "Python 3",
   "language": "python",
   "name": "python3"
  },
  "language_info": {
   "codemirror_mode": {
    "name": "ipython",
    "version": 3
   },
   "file_extension": ".py",
   "mimetype": "text/x-python",
   "name": "python",
   "nbconvert_exporter": "python",
   "pygments_lexer": "ipython3",
   "version": "3.9.13"
  }
 },
 "nbformat": 4,
 "nbformat_minor": 2
}
